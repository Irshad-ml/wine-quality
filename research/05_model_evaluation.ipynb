{
 "cells": [
  {
   "cell_type": "code",
   "execution_count": 1,
   "metadata": {},
   "outputs": [],
   "source": [
    "import os"
   ]
  },
  {
   "cell_type": "code",
   "execution_count": 2,
   "metadata": {},
   "outputs": [
    {
     "data": {
      "text/plain": [
       "'c:\\\\Users\\\\m3irs\\\\OneDrive\\\\Desktop\\\\2021DataScience\\\\2023Datascience\\\\Project\\\\wine_quality_project\\\\research'"
      ]
     },
     "execution_count": 2,
     "metadata": {},
     "output_type": "execute_result"
    }
   ],
   "source": [
    "os.getcwd()"
   ]
  },
  {
   "cell_type": "code",
   "execution_count": 3,
   "metadata": {},
   "outputs": [],
   "source": [
    "os.chdir('../')"
   ]
  },
  {
   "cell_type": "code",
   "execution_count": 4,
   "metadata": {},
   "outputs": [
    {
     "data": {
      "text/plain": [
       "'c:\\\\Users\\\\m3irs\\\\OneDrive\\\\Desktop\\\\2021DataScience\\\\2023Datascience\\\\Project\\\\wine_quality_project'"
      ]
     },
     "execution_count": 4,
     "metadata": {},
     "output_type": "execute_result"
    }
   ],
   "source": [
    "os.getcwd()"
   ]
  },
  {
   "cell_type": "code",
   "execution_count": 5,
   "metadata": {},
   "outputs": [],
   "source": [
    "#Before using the mlfow trcking uri in notebook execute below command \n",
    "\n",
    "os.environ[\"MLFLOW_TRACKING_URI\"] = \"https://dagshub.com/Irshad-ml/wine-quality.mlflow\"\n",
    "os.environ[\"MLFLOW_TRACKING_USERNAME\"] =\"Irshad-ml\"\n",
    "os.environ[\"MLFLOW_TRACKING_PASSWORD\"] = \"3acde6a67d36fe512914bc2abe1603b13fd958e3\"\n"
   ]
  },
  {
   "cell_type": "code",
   "execution_count": 6,
   "metadata": {},
   "outputs": [
    {
     "data": {
      "text/plain": [
       "'https://dagshub.com/Irshad-ml/wine-quality.mlflow'"
      ]
     },
     "execution_count": 6,
     "metadata": {},
     "output_type": "execute_result"
    }
   ],
   "source": [
    "os.environ[\"MLFLOW_TRACKING_URI\"]"
   ]
  },
  {
   "cell_type": "code",
   "execution_count": 7,
   "metadata": {},
   "outputs": [],
   "source": [
    "from src.mlproject.logger import logging"
   ]
  },
  {
   "cell_type": "code",
   "execution_count": 8,
   "metadata": {},
   "outputs": [],
   "source": [
    "from dataclasses import dataclass\n",
    "from pathlib import Path\n",
    "\n",
    "@dataclass\n",
    "class ModelEvaluationConfig:\n",
    "    root_dir:Path\n",
    "    test_data_path:Path\n",
    "    model_path:Path\n",
    "    metric_file_name:Path\n",
    "    all_params:dict\n",
    "    target_column:str\n",
    "    mlflow_uri:str\n",
    "    \n",
    "    "
   ]
  },
  {
   "cell_type": "code",
   "execution_count": 9,
   "metadata": {},
   "outputs": [],
   "source": [
    "from src.mlproject.constants import constant\n",
    "from src.mlproject.utils.common import read_yaml,create_directories,save_json\n",
    "\n",
    "\n",
    "class ConfigurationManager:\n",
    "    def __init__(\n",
    "        self,\n",
    "        config_filepath=constant.CONFIG_FILE_PATH,\n",
    "        params_filepath=constant.PARAMS_FILE_PATH,\n",
    "        schema_filepath=constant.SCHEMA_FILE_PATH):\n",
    "        \n",
    "        self.config=read_yaml(config_filepath)\n",
    "        self.params=read_yaml(params_filepath)\n",
    "        self.schema=read_yaml(schema_filepath)\n",
    "        \n",
    "        create_directories([self.config.artifacts_root])\n",
    "        \n",
    "    def get_model_evaluation_config(self) -> ModelEvaluationConfig:\n",
    "        config = self.config.model_evaluation\n",
    "        params = self.params.ElasticNet\n",
    "        schema = self.schema.TARGET_COLUMN\n",
    "        \n",
    "        create_directories([config.root_dir])\n",
    "        \n",
    "        model_evaluation_config = ModelEvaluationConfig(\n",
    "            root_dir = config.root_dir,\n",
    "            test_data_path = config.test_data_path,\n",
    "            model_path = config.model_path,\n",
    "            all_params = params,\n",
    "            metric_file_name = config.metric_file_name,\n",
    "            target_column = schema.name,\n",
    "            mlflow_uri = os.environ[\"MLFLOW_TRACKING_URI\"],\n",
    "        )\n",
    "        \n",
    "        \n",
    "        return model_evaluation_config\n",
    "        "
   ]
  },
  {
   "cell_type": "code",
   "execution_count": 10,
   "metadata": {},
   "outputs": [
    {
     "name": "stdout",
     "output_type": "stream",
     "text": [
      "config_yaml file  path:  config\\config.yaml\n",
      "param_yaml  file  path: params.yaml\n",
      "schema_yaml file  path: schema.yaml\n"
     ]
    }
   ],
   "source": [
    "print(f\"config_yaml file  path:  {constant.CONFIG_FILE_PATH}\")\n",
    "print(f\"param_yaml  file  path: {constant.PARAMS_FILE_PATH}\")\n",
    "print(f\"schema_yaml file  path: {constant.SCHEMA_FILE_PATH}\")"
   ]
  },
  {
   "cell_type": "code",
   "execution_count": 11,
   "metadata": {},
   "outputs": [
    {
     "name": "stdout",
     "output_type": "stream",
     "text": [
      "config\\config.yaml\n"
     ]
    },
    {
     "data": {
      "text/plain": [
       "ConfigBox({'artifacts_root': 'artifacts', 'data_ingestion': {'root_dir': 'artifacts/data_ingestion', 'source_url': 'https://github.com/Irshad-ml/Dataset-Collection/raw/main/winequality-data.zip', 'local_data_file': 'artifacts/data_ingestion/data.zip', 'unzip_dir': 'artifacts/data_ingestion'}, 'data_validation': {'root_dir': 'artifacts/data_validation', 'unzip_data_dir': 'artifacts/data_ingestion/winequality-red.csv', 'STATUS_FILE': 'artifacts/data_validation/status.txt'}, 'data_transformation': {'root_dir': 'artifacts/data_transformation', 'data_path': 'artifacts/data_ingestion/winequality-red.csv'}, 'model_trainer': {'root_dir': 'artifacts/model_trainer', 'train_data_path': 'artifacts/data_transformation/train.csv', 'test_data_path': 'artifacts/data_transformation/test.csv', 'model_name': 'model.joblib'}, 'model_evaluation': {'root_dir': 'artifacts/model_evaluation', 'test_data_path': 'artifacts/data_transformation/test.csv', 'model_path': 'artifacts/model_trainer/model.joblib', 'metric_file_name': 'artifacts/model_evaluation/metrics.json'}})"
      ]
     },
     "execution_count": 11,
     "metadata": {},
     "output_type": "execute_result"
    }
   ],
   "source": [
    "read_yaml(constant.CONFIG_FILE_PATH)"
   ]
  },
  {
   "cell_type": "code",
   "execution_count": 12,
   "metadata": {},
   "outputs": [
    {
     "data": {
      "text/plain": [
       "WindowsPath('config/config.yaml')"
      ]
     },
     "execution_count": 12,
     "metadata": {},
     "output_type": "execute_result"
    }
   ],
   "source": [
    "config_file_path = constant.CONFIG_FILE_PATH\n",
    "\n",
    "config_file_path"
   ]
  },
  {
   "cell_type": "code",
   "execution_count": 13,
   "metadata": {},
   "outputs": [
    {
     "name": "stdout",
     "output_type": "stream",
     "text": [
      "config\\config.yaml\n"
     ]
    },
    {
     "data": {
      "text/plain": [
       "ConfigBox({'artifacts_root': 'artifacts', 'data_ingestion': {'root_dir': 'artifacts/data_ingestion', 'source_url': 'https://github.com/Irshad-ml/Dataset-Collection/raw/main/winequality-data.zip', 'local_data_file': 'artifacts/data_ingestion/data.zip', 'unzip_dir': 'artifacts/data_ingestion'}, 'data_validation': {'root_dir': 'artifacts/data_validation', 'unzip_data_dir': 'artifacts/data_ingestion/winequality-red.csv', 'STATUS_FILE': 'artifacts/data_validation/status.txt'}, 'data_transformation': {'root_dir': 'artifacts/data_transformation', 'data_path': 'artifacts/data_ingestion/winequality-red.csv'}, 'model_trainer': {'root_dir': 'artifacts/model_trainer', 'train_data_path': 'artifacts/data_transformation/train.csv', 'test_data_path': 'artifacts/data_transformation/test.csv', 'model_name': 'model.joblib'}, 'model_evaluation': {'root_dir': 'artifacts/model_evaluation', 'test_data_path': 'artifacts/data_transformation/test.csv', 'model_path': 'artifacts/model_trainer/model.joblib', 'metric_file_name': 'artifacts/model_evaluation/metrics.json'}})"
      ]
     },
     "execution_count": 13,
     "metadata": {},
     "output_type": "execute_result"
    }
   ],
   "source": [
    "read_yaml(config_file_path)"
   ]
  },
  {
   "cell_type": "code",
   "execution_count": 14,
   "metadata": {},
   "outputs": [],
   "source": [
    "import os\n",
    "import pandas as pd\n",
    "from sklearn.metrics import mean_squared_error,mean_absolute_error,r2_score\n",
    "from urllib.parse import urlparse\n",
    "import mlflow\n",
    "import mlflow.sklearn\n",
    "import numpy as np\n",
    "import joblib\n"
   ]
  },
  {
   "cell_type": "code",
   "execution_count": 17,
   "metadata": {},
   "outputs": [],
   "source": [
    "class ModelEvaluation:\n",
    "    def __init__(self,config:ModelEvaluationConfig) :\n",
    "        self.config = config\n",
    "        \n",
    "        \n",
    "    def eval_metrics(self,actual_value,pred_value):\n",
    "        rmse = np.sqrt(mean_squared_error(actual_value,pred_value))\n",
    "        mae  = mean_absolute_error(actual_value,pred_value)\n",
    "        r2 = r2_score(actual_value,pred_value)\n",
    "        return rmse,mae,r2    \n",
    "    \n",
    "    \n",
    "    def log_into_mlflow(self):\n",
    "        \n",
    "        test_data = pd.read_csv(self.config.test_data_path)\n",
    "        model = joblib.load(self.config.model_path)\n",
    "        \n",
    "        \n",
    "        test_x = test_data.drop([self.config.target_column],axis=1)\n",
    "        test_y = test_data[[self.config.target_column]]\n",
    "        \n",
    "        mlflow.set_registry_uri(self.config.mlflow_uri)\n",
    "        tracking_url_type_store = urlparse(mlflow.get_tracking_uri()).scheme\n",
    "        print(\"URl tracking\",tracking_url_type_store)\n",
    "        \n",
    "        \n",
    "        with mlflow.start_run():\n",
    "            \n",
    "            predicted_qualities = model.predict(test_x)\n",
    "            \n",
    "            (rmse,mae,r2) = self.eval_metrics(test_y,predicted_qualities)\n",
    "            \n",
    "            #saving metrics as local\n",
    "            \n",
    "            scores = {\"rmse\":rmse,\"mae\":mae,\"r2\":r2}\n",
    "            save_json(path=Path(self.config.metric_file_name),data=scores)\n",
    "            \n",
    "            mlflow.log_params(self.config.all_params)\n",
    "            \n",
    "            mlflow.log_metric(\"rmse\",rmse)\n",
    "            mlflow.log_metric(\"mae\",mae)\n",
    "            mlflow.log_metric(\"r2_score\",r2)\n",
    "            \n",
    "\n",
    "            # Model registry does not work with file store\n",
    "            if tracking_url_type_store != \"file\":\n",
    "\n",
    "                # Register the model\n",
    "                # There are other ways to use the Model Registry, which depends on the use case,\n",
    "                # please refer to the doc for more information:\n",
    "                # https://mlflow.org/docs/latest/model-registry.html#api-workflow\n",
    "                mlflow.sklearn.log_model(model, \"model\", registered_model_name=\"ElasticnetModel\")\n",
    "                logging.info(\"\")\n",
    "            else:\n",
    "                mlflow.sklearn.log_model(model, \"model\")\n",
    "        \n",
    "        \n",
    "        \n"
   ]
  },
  {
   "cell_type": "code",
   "execution_count": 18,
   "metadata": {},
   "outputs": [
    {
     "name": "stdout",
     "output_type": "stream",
     "text": [
      "config\\config.yaml\n",
      "params.yaml\n",
      "schema.yaml\n",
      "URl tracking https\n"
     ]
    },
    {
     "name": "stderr",
     "output_type": "stream",
     "text": [
      "Registered model 'ElasticnetModel' already exists. Creating a new version of this model...\n",
      "2023/10/09 15:59:17 INFO mlflow.tracking._model_registry.client: Waiting up to 300 seconds for model version to finish creation.                     Model name: ElasticnetModel, version 6\n",
      "Created version '6' of model 'ElasticnetModel'.\n"
     ]
    }
   ],
   "source": [
    "try:\n",
    "    config = ConfigurationManager()\n",
    "    model_evaluation_config = config.get_model_evaluation_config()\n",
    "    model_evaluation_config = ModelEvaluation(config=model_evaluation_config)\n",
    "    model_evaluation_config.log_into_mlflow()\n",
    "except Exception as e:\n",
    "    raise e"
   ]
  }
 ],
 "metadata": {
  "kernelspec": {
   "display_name": "Python 3",
   "language": "python",
   "name": "python3"
  },
  "language_info": {
   "codemirror_mode": {
    "name": "ipython",
    "version": 3
   },
   "file_extension": ".py",
   "mimetype": "text/x-python",
   "name": "python",
   "nbconvert_exporter": "python",
   "pygments_lexer": "ipython3",
   "version": "3.8.0"
  },
  "orig_nbformat": 4
 },
 "nbformat": 4,
 "nbformat_minor": 2
}
